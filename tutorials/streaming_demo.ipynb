{
  "nbformat": 4,
  "nbformat_minor": 0,
  "metadata": {
    "kernelspec": {
      "display_name": "Python 3",
      "language": "python",
      "name": "python3"
    },
    "language_info": {
      "codemirror_mode": {
        "name": "ipython",
        "version": 3
      },
      "file_extension": ".py",
      "mimetype": "text/x-python",
      "name": "python",
      "nbconvert_exporter": "python",
      "pygments_lexer": "ipython3",
      "version": "3.8.5"
    },
    "colab": {
      "name": "streaming_demo.ipynb",
      "provenance": []
    }
  },
  "cells": [
    {
      "cell_type": "code",
      "metadata": {
        "id": "zBoHmIO8PEzs"
      },
      "source": [
        "! git clone https://github.com/alumae/online_speaker_change_detector.git"
      ],
      "execution_count": null,
      "outputs": []
    },
    {
      "cell_type": "code",
      "metadata": {
        "id": "GITm2R1xMGbW"
      },
      "source": [
        "! pip install -r online_speaker_change_detector/requirements.txt"
      ],
      "execution_count": null,
      "outputs": []
    },
    {
      "cell_type": "code",
      "metadata": {
        "id": "6ylF4K22MnZm"
      },
      "source": [
        "import sys\n",
        "sys.path.insert(1, \"online_speaker_change_detector\")"
      ],
      "execution_count": null,
      "outputs": []
    },
    {
      "cell_type": "code",
      "metadata": {
        "id": "cF8k1YX_LqWk"
      },
      "source": [
        "import numpy as np"
      ],
      "execution_count": null,
      "outputs": []
    },
    {
      "cell_type": "code",
      "metadata": {
        "id": "fQyGDdRCLqWu"
      },
      "source": [
        "from online_scd.utils import load_wav_file"
      ],
      "execution_count": null,
      "outputs": []
    },
    {
      "cell_type": "code",
      "metadata": {
        "id": "_QNAEJQcLqWv"
      },
      "source": [
        "audio_full = load_wav_file(\"online_speaker_change_detector/test/sample_dataset/71_ID117_344945.wav\", 16000)"
      ],
      "execution_count": null,
      "outputs": []
    },
    {
      "cell_type": "code",
      "metadata": {
        "id": "SKzvcg8mLqWv"
      },
      "source": [
        "# extract around 2 minutes of audio, and remove the start which contains a jingle\n",
        "audio = audio_full[int(5.88*16000) : 126*16000]"
      ],
      "execution_count": null,
      "outputs": []
    },
    {
      "cell_type": "code",
      "metadata": {
        "id": "_uN5yQfaLqWw"
      },
      "source": [
        "audio"
      ],
      "execution_count": null,
      "outputs": []
    },
    {
      "cell_type": "code",
      "metadata": {
        "id": "UvFMKFw0LqWx"
      },
      "source": [
        "import IPython.display as ipd"
      ],
      "execution_count": null,
      "outputs": []
    },
    {
      "cell_type": "code",
      "metadata": {
        "id": "tGA3cVL5LqWy"
      },
      "source": [
        "ipd.Audio(audio, rate=16000)"
      ],
      "execution_count": null,
      "outputs": []
    },
    {
      "cell_type": "code",
      "metadata": {
        "id": "G4hEvwwjLqW1"
      },
      "source": [
        "from online_scd.model import SCDModel\n",
        "from online_scd.streaming import StreamingDecoder\n",
        "\n",
        "model = SCDModel.load_from_checkpoint(\"online_speaker_change_detector/test/sample_model/checkpoints/epoch=102.ckpt\")"
      ],
      "execution_count": null,
      "outputs": []
    },
    {
      "cell_type": "code",
      "metadata": {
        "id": "9l9QsYNALqW2"
      },
      "source": [
        "streaming_decoder = StreamingDecoder(model)\n",
        "speaker_change_points = []\n",
        "# stream in 1000 sample chunks, varying size chunks are accepted\n",
        "for i in range(0, len(audio), 1000):\n",
        "    for time in streaming_decoder.find_speaker_change_times(audio[i: i+1000]):\n",
        "        print(\"Found speaker change point: \", time)\n",
        "        speaker_change_points.append(time)\n"
      ],
      "execution_count": null,
      "outputs": []
    },
    {
      "cell_type": "code",
      "metadata": {
        "id": "-A657TDDLqW3"
      },
      "source": [
        "# add short white noise clips to speaker change points\n",
        "\n",
        "for p in speaker_change_points:\n",
        "    samples = int(p * 16000)\n",
        "    audio[samples - 100: samples+100] = np.random.random(200)"
      ],
      "execution_count": null,
      "outputs": []
    },
    {
      "cell_type": "code",
      "metadata": {
        "id": "WCeyGjVxLqW3"
      },
      "source": [
        "# You can now hear the change points\n",
        "ipd.Audio(audio, rate=16000)"
      ],
      "execution_count": null,
      "outputs": []
    },
    {
      "cell_type": "code",
      "metadata": {
        "id": "i_IkB27QLqW9"
      },
      "source": [
        ""
      ],
      "execution_count": null,
      "outputs": []
    }
  ]
}